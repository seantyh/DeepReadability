{
 "cells": [
  {
   "cell_type": "code",
   "execution_count": 1,
   "metadata": {},
   "outputs": [
    {
     "name": "stderr",
     "output_type": "stream",
     "text": [
      "Using TensorFlow backend.\n"
     ]
    }
   ],
   "source": [
    "import numpy as np\n",
    "import pickle\n",
    "import keras\n",
    "from keras.models import Sequential, Model\n",
    "from keras.layers import Input, Dense, Activation, Embedding\n",
    "from keras.layers import LSTM\n",
    "import preproc\n",
    "from importlib import reload\n",
    "\n",
    "DATA_DIR = \"data\""
   ]
  },
  {
   "cell_type": "markdown",
   "metadata": {},
   "source": [
    "# Prepare training data"
   ]
  },
  {
   "cell_type": "code",
   "execution_count": 2,
   "metadata": {},
   "outputs": [],
   "source": [
    "VOCAB_SIZE = 3000\n",
    "data, labels = pickle.load(open(DATA_DIR + \"/train_data.pyObj\", \"rb\"))\n",
    "labels = labels - 1\n",
    "freq_vec = data[\"freq\"]\n",
    "stroke_vec = data[\"stroke\"]\n",
    "\n",
    "np.random.seed(125655)\n",
    "rand_idx = np.random.permutation(range(len(labels)))\n",
    "train_idx = rand_idx[:int(len(rand_idx) * 0.6)]\n",
    "cv_idx = rand_idx[int(len(rand_idx) * 0.6):int(len(rand_idx) * 0.2)]\n",
    "test_idx = rand_idx[int(len(rand_idx) * 0.8):]\n",
    "text_mat = preproc.preproc_text_vec(data[\"text\"], VOCAB_SIZE)"
   ]
  },
  {
   "cell_type": "markdown",
   "metadata": {},
   "source": [
    "# Setup Model"
   ]
  },
  {
   "cell_type": "code",
   "execution_count": 39,
   "metadata": {},
   "outputs": [
    {
     "data": {
      "image/svg+xml": [
       "<svg height=\"337pt\" viewBox=\"0.00 0.00 510.00 337.00\" width=\"510pt\" xmlns=\"http://www.w3.org/2000/svg\" xmlns:xlink=\"http://www.w3.org/1999/xlink\">\n",
       "<g class=\"graph\" id=\"graph0\" transform=\"scale(1 1) rotate(0) translate(4 333)\">\n",
       "<title>G</title>\n",
       "<polygon fill=\"white\" points=\"-4,4 -4,-333 506,-333 506,4 -4,4\" stroke=\"none\"/>\n",
       "<!-- 268554928 -->\n",
       "<g class=\"node\" id=\"node1\"><title>268554928</title>\n",
       "<polygon fill=\"none\" points=\"15,-292.5 15,-328.5 155,-328.5 155,-292.5 15,-292.5\" stroke=\"black\"/>\n",
       "<text font-family=\"Times New Roman,serif\" font-size=\"14.00\" text-anchor=\"middle\" x=\"85\" y=\"-306.8\">input_text: InputLayer</text>\n",
       "</g>\n",
       "<!-- 268555544 -->\n",
       "<g class=\"node\" id=\"node4\"><title>268555544</title>\n",
       "<polygon fill=\"none\" points=\"0,-219.5 0,-255.5 170,-255.5 170,-219.5 0,-219.5\" stroke=\"black\"/>\n",
       "<text font-family=\"Times New Roman,serif\" font-size=\"14.00\" text-anchor=\"middle\" x=\"85\" y=\"-233.8\">embedding_11: Embedding</text>\n",
       "</g>\n",
       "<!-- 268554928&#45;&gt;268555544 -->\n",
       "<g class=\"edge\" id=\"edge1\"><title>268554928-&gt;268555544</title>\n",
       "<path d=\"M85,-292.313C85,-284.289 85,-274.547 85,-265.569\" fill=\"none\" stroke=\"black\"/>\n",
       "<polygon fill=\"black\" points=\"88.5001,-265.529 85,-255.529 81.5001,-265.529 88.5001,-265.529\" stroke=\"black\"/>\n",
       "</g>\n",
       "<!-- 268554984 -->\n",
       "<g class=\"node\" id=\"node2\"><title>268554984</title>\n",
       "<polygon fill=\"none\" points=\"188,-292.5 188,-328.5 330,-328.5 330,-292.5 188,-292.5\" stroke=\"black\"/>\n",
       "<text font-family=\"Times New Roman,serif\" font-size=\"14.00\" text-anchor=\"middle\" x=\"259\" y=\"-306.8\">input_freq: InputLayer</text>\n",
       "</g>\n",
       "<!-- 268557616 -->\n",
       "<g class=\"node\" id=\"node5\"><title>268557616</title>\n",
       "<polygon fill=\"none\" points=\"188.5,-219.5 188.5,-255.5 361.5,-255.5 361.5,-219.5 188.5,-219.5\" stroke=\"black\"/>\n",
       "<text font-family=\"Times New Roman,serif\" font-size=\"14.00\" text-anchor=\"middle\" x=\"275\" y=\"-233.8\">concatenate_7: Concatenate</text>\n",
       "</g>\n",
       "<!-- 268554984&#45;&gt;268557616 -->\n",
       "<g class=\"edge\" id=\"edge2\"><title>268554984-&gt;268557616</title>\n",
       "<path d=\"M262.873,-292.313C264.681,-284.289 266.877,-274.547 268.9,-265.569\" fill=\"none\" stroke=\"black\"/>\n",
       "<polygon fill=\"black\" points=\"272.378,-266.054 271.163,-255.529 265.55,-264.515 272.378,-266.054\" stroke=\"black\"/>\n",
       "</g>\n",
       "<!-- 268555936 -->\n",
       "<g class=\"node\" id=\"node3\"><title>268555936</title>\n",
       "<polygon fill=\"none\" points=\"348,-292.5 348,-328.5 502,-328.5 502,-292.5 348,-292.5\" stroke=\"black\"/>\n",
       "<text font-family=\"Times New Roman,serif\" font-size=\"14.00\" text-anchor=\"middle\" x=\"425\" y=\"-306.8\">input_stroke: InputLayer</text>\n",
       "</g>\n",
       "<!-- 268555936&#45;&gt;268557616 -->\n",
       "<g class=\"edge\" id=\"edge3\"><title>268555936-&gt;268557616</title>\n",
       "<path d=\"M389.071,-292.494C368.443,-282.73 342.344,-270.376 320.318,-259.951\" fill=\"none\" stroke=\"black\"/>\n",
       "<polygon fill=\"black\" points=\"321.691,-256.728 311.155,-255.614 318.697,-263.055 321.691,-256.728\" stroke=\"black\"/>\n",
       "</g>\n",
       "<!-- 268558176 -->\n",
       "<g class=\"node\" id=\"node6\"><title>268558176</title>\n",
       "<polygon fill=\"none\" points=\"65.5,-146.5 65.5,-182.5 170.5,-182.5 170.5,-146.5 65.5,-146.5\" stroke=\"black\"/>\n",
       "<text font-family=\"Times New Roman,serif\" font-size=\"14.00\" text-anchor=\"middle\" x=\"118\" y=\"-160.8\">lstm_11: LSTM</text>\n",
       "</g>\n",
       "<!-- 268555544&#45;&gt;268558176 -->\n",
       "<g class=\"edge\" id=\"edge4\"><title>268555544-&gt;268558176</title>\n",
       "<path d=\"M92.9884,-219.313C96.8392,-211.028 101.542,-200.91 105.826,-191.693\" fill=\"none\" stroke=\"black\"/>\n",
       "<polygon fill=\"black\" points=\"109.044,-193.072 110.085,-182.529 102.696,-190.122 109.044,-193.072\" stroke=\"black\"/>\n",
       "</g>\n",
       "<!-- 268575128 -->\n",
       "<g class=\"node\" id=\"node7\"><title>268575128</title>\n",
       "<polygon fill=\"none\" points=\"206,-146.5 206,-182.5 310,-182.5 310,-146.5 206,-146.5\" stroke=\"black\"/>\n",
       "<text font-family=\"Times New Roman,serif\" font-size=\"14.00\" text-anchor=\"middle\" x=\"258\" y=\"-160.8\">dense_7: Dense</text>\n",
       "</g>\n",
       "<!-- 268557616&#45;&gt;268575128 -->\n",
       "<g class=\"edge\" id=\"edge5\"><title>268557616-&gt;268575128</title>\n",
       "<path d=\"M270.885,-219.313C268.943,-211.202 266.58,-201.336 264.411,-192.277\" fill=\"none\" stroke=\"black\"/>\n",
       "<polygon fill=\"black\" points=\"267.81,-191.439 262.077,-182.529 261.002,-193.069 267.81,-191.439\" stroke=\"black\"/>\n",
       "</g>\n",
       "<!-- 273141712 -->\n",
       "<g class=\"node\" id=\"node8\"><title>273141712</title>\n",
       "<polygon fill=\"none\" points=\"101.5,-73.5 101.5,-109.5 274.5,-109.5 274.5,-73.5 101.5,-73.5\" stroke=\"black\"/>\n",
       "<text font-family=\"Times New Roman,serif\" font-size=\"14.00\" text-anchor=\"middle\" x=\"188\" y=\"-87.8\">concatenate_8: Concatenate</text>\n",
       "</g>\n",
       "<!-- 268558176&#45;&gt;273141712 -->\n",
       "<g class=\"edge\" id=\"edge6\"><title>268558176-&gt;273141712</title>\n",
       "<path d=\"M134.945,-146.313C143.715,-137.417 154.568,-126.409 164.169,-116.672\" fill=\"none\" stroke=\"black\"/>\n",
       "<polygon fill=\"black\" points=\"166.683,-119.107 171.211,-109.529 161.698,-114.193 166.683,-119.107\" stroke=\"black\"/>\n",
       "</g>\n",
       "<!-- 268575128&#45;&gt;273141712 -->\n",
       "<g class=\"edge\" id=\"edge7\"><title>268575128-&gt;273141712</title>\n",
       "<path d=\"M241.055,-146.313C232.285,-137.417 221.432,-126.409 211.831,-116.672\" fill=\"none\" stroke=\"black\"/>\n",
       "<polygon fill=\"black\" points=\"214.302,-114.193 204.789,-109.529 209.317,-119.107 214.302,-114.193\" stroke=\"black\"/>\n",
       "</g>\n",
       "<!-- 270730520 -->\n",
       "<g class=\"node\" id=\"node9\"><title>270730520</title>\n",
       "<polygon fill=\"none\" points=\"136,-0.5 136,-36.5 240,-36.5 240,-0.5 136,-0.5\" stroke=\"black\"/>\n",
       "<text font-family=\"Times New Roman,serif\" font-size=\"14.00\" text-anchor=\"middle\" x=\"188\" y=\"-14.8\">dense_8: Dense</text>\n",
       "</g>\n",
       "<!-- 273141712&#45;&gt;270730520 -->\n",
       "<g class=\"edge\" id=\"edge8\"><title>273141712-&gt;270730520</title>\n",
       "<path d=\"M188,-73.3129C188,-65.2895 188,-55.5475 188,-46.5691\" fill=\"none\" stroke=\"black\"/>\n",
       "<polygon fill=\"black\" points=\"191.5,-46.5288 188,-36.5288 184.5,-46.5289 191.5,-46.5288\" stroke=\"black\"/>\n",
       "</g>\n",
       "</g>\n",
       "</svg>"
      ],
      "text/plain": [
       "<IPython.core.display.SVG object>"
      ]
     },
     "execution_count": 39,
     "metadata": {},
     "output_type": "execute_result"
    }
   ],
   "source": [
    "# define input layers\n",
    "input_text = Input(shape=(None, ), name=\"input_text\")\n",
    "input_freq = Input(shape=(4,), name=\"input_freq\")\n",
    "input_stroke = Input(shape=(3,), name=\"input_stroke\")\n",
    "\n",
    "# embedding layers for text\n",
    "embed = Embedding(VOCAB_SIZE, 100)(input_text)\n",
    "lstm = LSTM(40)(embed)\n",
    "\n",
    "# dense for freq/stroke\n",
    "input_fs = keras.layers.concatenate([input_freq, input_stroke])\n",
    "dense1 = Dense(3, activation=\"sigmoid\")(input_fs)\n",
    "\n",
    "# concatenate sequence layers and other two inputs\n",
    "concat = keras.layers.concatenate([lstm, dense1])\n",
    "\n",
    "# connect to outputs\n",
    "grade_out = Dense(6, activation=\"softmax\")(concat)\n",
    "\n",
    "model = Model(inputs = [input_text, input_freq, input_stroke], \n",
    "              outputs = [grade_out])\n",
    "\n",
    "model.compile(optimizer = 'rmsprop', \n",
    "              loss=\"categorical_crossentropy\", \n",
    "              metrics = [\"accuracy\"])\n",
    "\n",
    "from IPython.display import SVG\n",
    "from keras.utils.vis_utils import model_to_dot\n",
    "\n",
    "SVG(model_to_dot(model).create(prog='dot', format='svg'))"
   ]
  },
  {
   "cell_type": "markdown",
   "metadata": {},
   "source": [
    "# Training"
   ]
  },
  {
   "cell_type": "code",
   "execution_count": 43,
   "metadata": {},
   "outputs": [
    {
     "name": "stdout",
     "output_type": "stream",
     "text": [
      "Training data: 784 samples\n",
      " --- Epoch 0 --- \n",
      "[   0] cost: 0.0164483, accuracy: 1.00\n",
      "[   1] cost: 0.016098, accuracy: 1.00\n",
      "[   2] cost: 0.364981, accuracy: 1.00\n",
      "[   3] cost: 0.277466, accuracy: 1.00\n",
      " --- Epoch 1 --- \n",
      "[   0] cost: 0.224682, accuracy: 1.00\n",
      "[   1] cost: 0.189397, accuracy: 1.00\n",
      "[   2] cost: 0.305566, accuracy: 1.00\n",
      "[   3] cost: 0.268931, accuracy: 1.00\n",
      " --- Epoch 2 --- \n",
      "[   0] cost: 0.240317, accuracy: 1.00\n",
      "[   1] cost: 0.217376, accuracy: 1.00\n",
      "[   2] cost: 0.30925, accuracy: 1.00\n",
      "[   3] cost: 0.308741, accuracy: 1.00\n",
      " --- Epoch 3 --- \n",
      "[   0] cost: 0.203442, accuracy: 1.00\n",
      "[   1] cost: 0.20288, accuracy: 1.00\n",
      "[   2] cost: 0.287514, accuracy: 1.00\n",
      "[   3] cost: 0.287139, accuracy: 1.00\n",
      " --- Epoch 4 --- \n",
      "[   0] cost: 0.187726, accuracy: 1.00\n",
      "[   1] cost: 0.18728, accuracy: 1.00\n",
      "[   2] cost: 0.263817, accuracy: 1.00\n",
      "[   3] cost: 0.263536, accuracy: 1.00\n",
      " --- Epoch 5 --- \n",
      "[   0] cost: 0.170758, accuracy: 1.00\n",
      "[   1] cost: 0.170392, accuracy: 1.00\n",
      "[   2] cost: 0.238138, accuracy: 1.00\n",
      "[   3] cost: 0.237925, accuracy: 1.00\n",
      " --- Epoch 6 --- \n",
      "[   0] cost: 0.152593, accuracy: 1.00\n",
      "[   1] cost: 0.152285, accuracy: 1.00\n",
      "[   2] cost: 0.210844, accuracy: 1.00\n",
      "[   3] cost: 0.210684, accuracy: 1.00\n",
      " --- Epoch 7 --- \n",
      "[   0] cost: 0.133591, accuracy: 1.00\n",
      "[   1] cost: 0.133327, accuracy: 1.00\n",
      "[   2] cost: 0.182725, accuracy: 1.00\n",
      "[   3] cost: 0.182602, accuracy: 1.00\n",
      " --- Epoch 8 --- \n",
      "[   0] cost: 0.114403, accuracy: 1.00\n",
      "[   1] cost: 0.114169, accuracy: 1.00\n",
      "[   2] cost: 0.154898, accuracy: 1.00\n",
      "[   3] cost: 0.154804, accuracy: 1.00\n",
      " --- Epoch 9 --- \n",
      "[   0] cost: 0.0958638, accuracy: 1.00\n",
      "[   1] cost: 0.0956498, accuracy: 1.00\n",
      "[   2] cost: 0.128599, accuracy: 1.00\n",
      "[   3] cost: 0.128514, accuracy: 1.00\n"
     ]
    }
   ],
   "source": [
    "EPOCH = 10\n",
    "cost_vec = []\n",
    "acc_vec = []\n",
    "print(\"Training data: %d samples\" % len(train_idx))\n",
    "\n",
    "for epoch_i in range(EPOCH):\n",
    "    print(\" --- Epoch {} --- \".format(epoch_i))\n",
    "    counter = 0\n",
    "\n",
    "    for sample_idx in train_idx:\n",
    "        sample = text_mat[sample_idx]\n",
    "        label = labels[sample_idx]\n",
    "        freq = freq_vec[sample_idx]\n",
    "        stroke = stroke_vec[sample_idx]\n",
    "        ret = model.train_on_batch([np.array([sample]), np.array([freq]), np.array([stroke])], \n",
    "                keras.utils.to_categorical(label, 6))\n",
    "        cost_vec.append(ret[0])\n",
    "        acc_vec.append(ret[1])\n",
    "\n",
    "        print(\"[% 4d] cost: %s, accuracy: %.2f\" % \\\n",
    "            (counter, np.mean(cost_vec[-10:]), np.mean(acc_vec[-10:])))   \n",
    "        counter += 1\n",
    "        if counter > 3:\n",
    "            break   "
   ]
  },
  {
   "cell_type": "code",
   "execution_count": 14,
   "metadata": {},
   "outputs": [
    {
     "data": {
      "text/plain": [
       "(4,)"
      ]
     },
     "execution_count": 14,
     "metadata": {},
     "output_type": "execute_result"
    }
   ],
   "source": [
    "np.array(freq_vec[sample_idx]).shape\n"
   ]
  },
  {
   "cell_type": "code",
   "execution_count": 31,
   "metadata": {},
   "outputs": [
    {
     "data": {
      "text/plain": [
       "[60, 1, 1, 0]"
      ]
     },
     "execution_count": 31,
     "metadata": {},
     "output_type": "execute_result"
    }
   ],
   "source": [
    "freq_vec[0].tolist()"
   ]
  },
  {
   "cell_type": "code",
   "execution_count": null,
   "metadata": {
    "collapsed": true
   },
   "outputs": [],
   "source": []
  }
 ],
 "metadata": {
  "kernelspec": {
   "display_name": "Python 3",
   "language": "python",
   "name": "python3"
  },
  "language_info": {
   "codemirror_mode": {
    "name": "ipython",
    "version": 3
   },
   "file_extension": ".py",
   "mimetype": "text/x-python",
   "name": "python",
   "nbconvert_exporter": "python",
   "pygments_lexer": "ipython3",
   "version": "3.6.1"
  }
 },
 "nbformat": 4,
 "nbformat_minor": 2
}
