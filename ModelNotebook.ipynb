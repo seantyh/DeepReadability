{
 "cells": [
  {
   "cell_type": "code",
   "execution_count": 1,
   "metadata": {},
   "outputs": [
    {
     "name": "stderr",
     "output_type": "stream",
     "text": [
      "Using TensorFlow backend.\n"
     ]
    }
   ],
   "source": [
    "import numpy as np\n",
    "import tensorflow as tf\n",
    "import pickle\n",
    "import keras\n",
    "from keras.models import Sequential, Model\n",
    "from keras.layers import Input, Dense, Activation, Embedding\n",
    "from keras.layers import LSTM\n",
    "import preproc\n",
    "from importlib import reload\n",
    "import train_utils\n",
    "\n",
    "DATA_DIR = \"data\""
   ]
  },
  {
   "cell_type": "markdown",
   "metadata": {},
   "source": [
    "# Prepare training data"
   ]
  },
  {
   "cell_type": "code",
   "execution_count": 2,
   "metadata": {},
   "outputs": [],
   "source": [
    "VOCAB_SIZE = 3000\n",
    "data, labels = pickle.load(open(DATA_DIR + \"/train_data.pyObj\", \"rb\"))\n",
    "labels = labels - 1\n",
    "freq_vec = data[\"freq\"]\n",
    "stroke_vec = data[\"stroke\"]\n",
    "\n",
    "np.random.seed(125655)\n",
    "rand_idx = np.random.permutation(range(len(labels)))\n",
    "train_idx = rand_idx[:int(len(rand_idx) * 0.6)]\n",
    "cv_idx = rand_idx[int(len(rand_idx) * 0.6):int(len(rand_idx) * 0.2)]\n",
    "test_idx = rand_idx[int(len(rand_idx) * 0.8):]\n",
    "text_mat = preproc.preproc_text_vec(data[\"text\"], VOCAB_SIZE)"
   ]
  },
  {
   "cell_type": "markdown",
   "metadata": {},
   "source": [
    "# Setup Model"
   ]
  },
  {
   "cell_type": "code",
   "execution_count": 3,
   "metadata": {},
   "outputs": [
    {
     "data": {
      "image/svg+xml": [
       "<svg height=\"337pt\" viewBox=\"0.00 0.00 504.50 337.00\" width=\"505pt\" xmlns=\"http://www.w3.org/2000/svg\" xmlns:xlink=\"http://www.w3.org/1999/xlink\">\n",
       "<g class=\"graph\" id=\"graph0\" transform=\"scale(1 1) rotate(0) translate(4 333)\">\n",
       "<title>G</title>\n",
       "<polygon fill=\"white\" points=\"-4,4 -4,-333 500.5,-333 500.5,4 -4,4\" stroke=\"none\"/>\n",
       "<!-- 227450720 -->\n",
       "<g class=\"node\" id=\"node1\"><title>227450720</title>\n",
       "<polygon fill=\"none\" points=\"11.5,-292.5 11.5,-328.5 151.5,-328.5 151.5,-292.5 11.5,-292.5\" stroke=\"black\"/>\n",
       "<text font-family=\"Times New Roman,serif\" font-size=\"14.00\" text-anchor=\"middle\" x=\"81.5\" y=\"-306.8\">input_text: InputLayer</text>\n",
       "</g>\n",
       "<!-- 227422672 -->\n",
       "<g class=\"node\" id=\"node4\"><title>227422672</title>\n",
       "<polygon fill=\"none\" points=\"0,-219.5 0,-255.5 163,-255.5 163,-219.5 0,-219.5\" stroke=\"black\"/>\n",
       "<text font-family=\"Times New Roman,serif\" font-size=\"14.00\" text-anchor=\"middle\" x=\"81.5\" y=\"-233.8\">embedding_1: Embedding</text>\n",
       "</g>\n",
       "<!-- 227450720&#45;&gt;227422672 -->\n",
       "<g class=\"edge\" id=\"edge1\"><title>227450720-&gt;227422672</title>\n",
       "<path d=\"M81.5,-292.313C81.5,-284.289 81.5,-274.547 81.5,-265.569\" fill=\"none\" stroke=\"black\"/>\n",
       "<polygon fill=\"black\" points=\"85.0001,-265.529 81.5,-255.529 78.0001,-265.529 85.0001,-265.529\" stroke=\"black\"/>\n",
       "</g>\n",
       "<!-- 227450776 -->\n",
       "<g class=\"node\" id=\"node2\"><title>227450776</title>\n",
       "<polygon fill=\"none\" points=\"182.5,-292.5 182.5,-328.5 324.5,-328.5 324.5,-292.5 182.5,-292.5\" stroke=\"black\"/>\n",
       "<text font-family=\"Times New Roman,serif\" font-size=\"14.00\" text-anchor=\"middle\" x=\"253.5\" y=\"-306.8\">input_freq: InputLayer</text>\n",
       "</g>\n",
       "<!-- 227422728 -->\n",
       "<g class=\"node\" id=\"node5\"><title>227422728</title>\n",
       "<polygon fill=\"none\" points=\"181,-219.5 181,-255.5 354,-255.5 354,-219.5 181,-219.5\" stroke=\"black\"/>\n",
       "<text font-family=\"Times New Roman,serif\" font-size=\"14.00\" text-anchor=\"middle\" x=\"267.5\" y=\"-233.8\">concatenate_1: Concatenate</text>\n",
       "</g>\n",
       "<!-- 227450776&#45;&gt;227422728 -->\n",
       "<g class=\"edge\" id=\"edge2\"><title>227450776-&gt;227422728</title>\n",
       "<path d=\"M256.889,-292.313C258.471,-284.289 260.392,-274.547 262.162,-265.569\" fill=\"none\" stroke=\"black\"/>\n",
       "<polygon fill=\"black\" points=\"265.641,-266.017 264.142,-255.529 258.774,-264.663 265.641,-266.017\" stroke=\"black\"/>\n",
       "</g>\n",
       "<!-- 227423064 -->\n",
       "<g class=\"node\" id=\"node3\"><title>227423064</title>\n",
       "<polygon fill=\"none\" points=\"342.5,-292.5 342.5,-328.5 496.5,-328.5 496.5,-292.5 342.5,-292.5\" stroke=\"black\"/>\n",
       "<text font-family=\"Times New Roman,serif\" font-size=\"14.00\" text-anchor=\"middle\" x=\"419.5\" y=\"-306.8\">input_stroke: InputLayer</text>\n",
       "</g>\n",
       "<!-- 227423064&#45;&gt;227422728 -->\n",
       "<g class=\"edge\" id=\"edge3\"><title>227423064-&gt;227422728</title>\n",
       "<path d=\"M383.092,-292.494C362.189,-282.73 335.742,-270.376 313.422,-259.951\" fill=\"none\" stroke=\"black\"/>\n",
       "<polygon fill=\"black\" points=\"314.679,-256.675 304.138,-255.614 311.717,-263.017 314.679,-256.675\" stroke=\"black\"/>\n",
       "</g>\n",
       "<!-- 227422784 -->\n",
       "<g class=\"node\" id=\"node6\"><title>227422784</title>\n",
       "<polygon fill=\"none\" points=\"65.5,-146.5 65.5,-182.5 163.5,-182.5 163.5,-146.5 65.5,-146.5\" stroke=\"black\"/>\n",
       "<text font-family=\"Times New Roman,serif\" font-size=\"14.00\" text-anchor=\"middle\" x=\"114.5\" y=\"-160.8\">lstm_1: LSTM</text>\n",
       "</g>\n",
       "<!-- 227422672&#45;&gt;227422784 -->\n",
       "<g class=\"edge\" id=\"edge4\"><title>227422672-&gt;227422784</title>\n",
       "<path d=\"M89.4884,-219.313C93.3392,-211.028 98.0417,-200.91 102.326,-191.693\" fill=\"none\" stroke=\"black\"/>\n",
       "<polygon fill=\"black\" points=\"105.544,-193.072 106.585,-182.529 99.1963,-190.122 105.544,-193.072\" stroke=\"black\"/>\n",
       "</g>\n",
       "<!-- 227626960 -->\n",
       "<g class=\"node\" id=\"node7\"><title>227626960</title>\n",
       "<polygon fill=\"none\" points=\"198.5,-146.5 198.5,-182.5 302.5,-182.5 302.5,-146.5 198.5,-146.5\" stroke=\"black\"/>\n",
       "<text font-family=\"Times New Roman,serif\" font-size=\"14.00\" text-anchor=\"middle\" x=\"250.5\" y=\"-160.8\">dense_1: Dense</text>\n",
       "</g>\n",
       "<!-- 227422728&#45;&gt;227626960 -->\n",
       "<g class=\"edge\" id=\"edge5\"><title>227422728-&gt;227626960</title>\n",
       "<path d=\"M263.385,-219.313C261.443,-211.202 259.08,-201.336 256.911,-192.277\" fill=\"none\" stroke=\"black\"/>\n",
       "<polygon fill=\"black\" points=\"260.31,-191.439 254.577,-182.529 253.502,-193.069 260.31,-191.439\" stroke=\"black\"/>\n",
       "</g>\n",
       "<!-- 227623040 -->\n",
       "<g class=\"node\" id=\"node8\"><title>227623040</title>\n",
       "<polygon fill=\"none\" points=\"96,-73.5 96,-109.5 269,-109.5 269,-73.5 96,-73.5\" stroke=\"black\"/>\n",
       "<text font-family=\"Times New Roman,serif\" font-size=\"14.00\" text-anchor=\"middle\" x=\"182.5\" y=\"-87.8\">concatenate_2: Concatenate</text>\n",
       "</g>\n",
       "<!-- 227422784&#45;&gt;227623040 -->\n",
       "<g class=\"edge\" id=\"edge6\"><title>227422784-&gt;227623040</title>\n",
       "<path d=\"M130.961,-146.313C139.397,-137.505 149.817,-126.625 159.075,-116.958\" fill=\"none\" stroke=\"black\"/>\n",
       "<polygon fill=\"black\" points=\"161.802,-119.172 166.191,-109.529 156.746,-114.33 161.802,-119.172\" stroke=\"black\"/>\n",
       "</g>\n",
       "<!-- 227626960&#45;&gt;227623040 -->\n",
       "<g class=\"edge\" id=\"edge7\"><title>227626960-&gt;227623040</title>\n",
       "<path d=\"M234.039,-146.313C225.603,-137.505 215.183,-126.625 205.925,-116.958\" fill=\"none\" stroke=\"black\"/>\n",
       "<polygon fill=\"black\" points=\"208.254,-114.33 198.809,-109.529 203.198,-119.172 208.254,-114.33\" stroke=\"black\"/>\n",
       "</g>\n",
       "<!-- 237276296 -->\n",
       "<g class=\"node\" id=\"node9\"><title>237276296</title>\n",
       "<polygon fill=\"none\" points=\"130.5,-0.5 130.5,-36.5 234.5,-36.5 234.5,-0.5 130.5,-0.5\" stroke=\"black\"/>\n",
       "<text font-family=\"Times New Roman,serif\" font-size=\"14.00\" text-anchor=\"middle\" x=\"182.5\" y=\"-14.8\">dense_2: Dense</text>\n",
       "</g>\n",
       "<!-- 227623040&#45;&gt;237276296 -->\n",
       "<g class=\"edge\" id=\"edge8\"><title>227623040-&gt;237276296</title>\n",
       "<path d=\"M182.5,-73.3129C182.5,-65.2895 182.5,-55.5475 182.5,-46.5691\" fill=\"none\" stroke=\"black\"/>\n",
       "<polygon fill=\"black\" points=\"186,-46.5288 182.5,-36.5288 179,-46.5289 186,-46.5288\" stroke=\"black\"/>\n",
       "</g>\n",
       "</g>\n",
       "</svg>"
      ],
      "text/plain": [
       "<IPython.core.display.SVG object>"
      ]
     },
     "execution_count": 3,
     "metadata": {},
     "output_type": "execute_result"
    }
   ],
   "source": [
    "# define input layers\n",
    "input_text = Input(shape=(None, ), name=\"input_text\")\n",
    "input_freq = Input(shape=(4,), name=\"input_freq\")\n",
    "input_stroke = Input(shape=(3,), name=\"input_stroke\")\n",
    "\n",
    "# embedding layers for text\n",
    "embed = Embedding(VOCAB_SIZE, 100)(input_text)\n",
    "lstm = LSTM(40)(embed)\n",
    "\n",
    "# dense for freq/stroke\n",
    "input_fs = keras.layers.concatenate([input_freq, input_stroke])\n",
    "dense1 = Dense(3, activation=\"sigmoid\")(input_fs)\n",
    "\n",
    "# concatenate sequence layers and other two inputs\n",
    "concat = keras.layers.concatenate([lstm, dense1])\n",
    "\n",
    "# connect to outputs\n",
    "grade_out = Dense(6, activation=\"softmax\")(concat)\n",
    "\n",
    "model = Model(inputs = [input_text, input_freq, input_stroke], \n",
    "              outputs = [grade_out])\n",
    "\n",
    "model.compile(optimizer = 'rmsprop', \n",
    "              loss=\"categorical_crossentropy\", \n",
    "              metrics = [\"accuracy\", summary])\n",
    "\n",
    "from IPython.display import SVG\n",
    "from keras.utils.vis_utils import model_to_dot\n",
    "\n",
    "SVG(model_to_dot(model).create(prog='dot', format='svg'))"
   ]
  },
  {
   "cell_type": "markdown",
   "metadata": {},
   "source": [
    "# Training"
   ]
  },
  {
   "cell_type": "code",
   "execution_count": 8,
   "metadata": {},
   "outputs": [
    {
     "name": "stdout",
     "output_type": "stream",
     "text": [
      "Training data: 784 samples\n",
      " --- Epoch 0 --- \n",
      "[   0] cost: 1.35231, accuracy: 1.00\n",
      "[   1] cost: 1.37075, accuracy: 1.00\n",
      "[   2] cost: 1.58928, accuracy: 0.67\n",
      " --- Epoch 1 --- \n",
      "[   0] cost: 1.48184, accuracy: 0.80\n",
      "[   1] cost: 1.44392, accuracy: 0.83\n",
      "[   2] cost: 1.51751, accuracy: 0.71\n",
      " --- Epoch 2 --- \n",
      "[   0] cost: 1.42903, accuracy: 0.78\n",
      "[   1] cost: 1.37151, accuracy: 0.80\n",
      "[   2] cost: 1.43588, accuracy: 0.70\n",
      " --- Epoch 3 --- \n",
      "[   0] cost: 1.20922, accuracy: 0.80\n",
      "[   1] cost: 1.09501, accuracy: 0.80\n",
      "[   2] cost: 1.19584, accuracy: 0.70\n",
      " --- Epoch 4 --- \n",
      "[   0] cost: 0.949924, accuracy: 0.80\n",
      "[   1] cost: 0.852173, accuracy: 0.80\n",
      "[   2] cost: 0.937655, accuracy: 0.70\n",
      " --- Epoch 5 --- \n",
      "[   0] cost: 0.690789, accuracy: 0.80\n",
      "[   1] cost: 0.626508, accuracy: 0.80\n",
      "[   2] cost: 0.772273, accuracy: 0.70\n",
      " --- Epoch 6 --- \n",
      "[   0] cost: 0.544295, accuracy: 0.80\n",
      "[   1] cost: 0.506109, accuracy: 0.80\n",
      "[   2] cost: 0.65539, accuracy: 0.70\n",
      " --- Epoch 7 --- \n",
      "[   0] cost: 0.458682, accuracy: 0.80\n",
      "[   1] cost: 0.443126, accuracy: 0.80\n",
      "[   2] cost: 0.598679, accuracy: 0.70\n",
      " --- Epoch 8 --- \n",
      "[   0] cost: 0.412607, accuracy: 0.80\n",
      "[   1] cost: 0.404979, accuracy: 0.80\n",
      "[   2] cost: 0.559984, accuracy: 0.70\n",
      " --- Epoch 9 --- \n",
      "[   0] cost: 0.381023, accuracy: 0.80\n",
      "[   1] cost: 0.376728, accuracy: 0.80\n",
      "[   2] cost: 0.528007, accuracy: 0.70\n"
     ]
    }
   ],
   "source": [
    "## tensorboard logging\n",
    "tb_callback = keras.callbacks.TensorBoard(\"logs\")\n",
    "tb_callback.set_model(model)\n",
    "\n",
    "# Training\n",
    "EPOCH = 10\n",
    "cost_vec = []\n",
    "acc_vec = []\n",
    "print(\"Training data: %d samples\" % len(train_idx))\n",
    "\n",
    "for epoch_i in range(EPOCH):\n",
    "    print(\" --- Epoch {} --- \".format(epoch_i))\n",
    "    counter = 0\n",
    "\n",
    "    for sample_idx in train_idx:\n",
    "        sample = text_mat[sample_idx]\n",
    "        label = labels[sample_idx]\n",
    "        freq = freq_vec[sample_idx]\n",
    "        stroke = stroke_vec[sample_idx]\n",
    "        ret = model.train_on_batch(\n",
    "                [np.array([sample]), np.array([freq]), np.array([stroke])], \n",
    "                keras.utils.to_categorical(label, 6))\n",
    "        cost_vec.append(ret[0])\n",
    "        acc_vec.append(ret[1])\n",
    "\n",
    "        global_iter = epoch_i * len(train_idx) + counter        \n",
    "\n",
    "        mv_cost = np.mean(cost_vec[-10:])\n",
    "        mv_acc = np.mean(acc_vec[-10:])\n",
    "        if (global_iter + 1) % 10 == 0:\n",
    "            print(\"validating model...\")\n",
    "            val_loss, val_acc = train_utils.test_model(\n",
    "                model, test_idx, data, labels, VOCAB_SIZE)\n",
    "            print(\"Validation: loss: {:f}, acc: {:.2f}\".format(val_loss, val_acc))\n",
    "            train_utils.write_log(tb_callback, global_iter, \n",
    "                    [\"loss\", \"accuracy\", \"val_loss\", \"val_accuracy\"], \n",
    "                    [mv_cost, mv_acc, val_loss, val_acc])\n",
    "\n",
    "        if counter >= 3:\n",
    "            break   \n",
    "        print(\"[% 4d] cost: %s, accuracy: %.2f\" % (counter, mv_cost, mv_acc))\n",
    "        counter += 1\n",
    "\n"
   ]
  },
  {
   "cell_type": "code",
   "execution_count": 14,
   "metadata": {},
   "outputs": [
    {
     "data": {
      "text/plain": [
       "(4,)"
      ]
     },
     "execution_count": 14,
     "metadata": {},
     "output_type": "execute_result"
    }
   ],
   "source": [
    "np.array(freq_vec[sample_idx]).shape\n"
   ]
  },
  {
   "cell_type": "code",
   "execution_count": 31,
   "metadata": {},
   "outputs": [
    {
     "data": {
      "text/plain": [
       "[60, 1, 1, 0]"
      ]
     },
     "execution_count": 31,
     "metadata": {},
     "output_type": "execute_result"
    }
   ],
   "source": [
    "freq_vec[0].tolist()"
   ]
  },
  {
   "cell_type": "code",
   "execution_count": null,
   "metadata": {
    "collapsed": true
   },
   "outputs": [],
   "source": []
  }
 ],
 "metadata": {
  "kernelspec": {
   "display_name": "Python 3",
   "language": "python",
   "name": "python3"
  },
  "language_info": {
   "codemirror_mode": {
    "name": "ipython",
    "version": 3
   },
   "file_extension": ".py",
   "mimetype": "text/x-python",
   "name": "python",
   "nbconvert_exporter": "python",
   "pygments_lexer": "ipython3",
   "version": "3.6.1"
  }
 },
 "nbformat": 4,
 "nbformat_minor": 2
}
