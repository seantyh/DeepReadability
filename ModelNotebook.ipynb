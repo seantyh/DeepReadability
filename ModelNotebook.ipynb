{
 "cells": [
  {
   "cell_type": "code",
   "execution_count": 1,
   "metadata": {},
   "outputs": [
    {
     "name": "stderr",
     "output_type": "stream",
     "text": [
      "Using TensorFlow backend.\n"
     ]
    }
   ],
   "source": [
    "import numpy as np\n",
    "import tensorflow as tf\n",
    "import pickle\n",
    "import keras\n",
    "from keras.models import Sequential, Model\n",
    "from keras.layers import Input, Dense, Activation, Embedding\n",
    "from keras.layers import LSTM\n",
    "import preproc\n",
    "from importlib import reload\n",
    "import train_utils\n",
    "\n",
    "DATA_DIR = \"data\""
   ]
  },
  {
   "cell_type": "markdown",
   "metadata": {},
   "source": [
    "# Prepare training data"
   ]
  },
  {
   "cell_type": "code",
   "execution_count": 2,
   "metadata": {},
   "outputs": [],
   "source": [
    "VOCAB_SIZE = 3000\n",
    "data, labels = pickle.load(open(DATA_DIR + \"/train_data.pyObj\", \"rb\"))\n",
    "labels = labels - 1\n",
    "freq_vec = data[\"freq\"]\n",
    "stroke_vec = data[\"stroke\"]\n",
    "\n",
    "np.random.seed(125655)\n",
    "rand_idx = np.random.permutation(range(len(labels)))\n",
    "train_idx = rand_idx[:int(len(rand_idx) * 0.6)]\n",
    "cv_idx = rand_idx[int(len(rand_idx) * 0.6):int(len(rand_idx) * 0.2)]\n",
    "test_idx = rand_idx[int(len(rand_idx) * 0.8):]\n",
    "text_mat = preproc.preproc_text_vec(data[\"text\"], VOCAB_SIZE)"
   ]
  },
  {
   "cell_type": "markdown",
   "metadata": {},
   "source": [
    "# Setup Model"
   ]
  },
  {
   "cell_type": "code",
   "execution_count": 9,
   "metadata": {
    "collapsed": true
   },
   "outputs": [],
   "source": [
    "# define input layers\n",
    "input_text = Input(shape=(None, ), name=\"input_text\")\n",
    "input_freq = Input(shape=(4,), name=\"input_freq\")\n",
    "input_stroke = Input(shape=(3,), name=\"input_stroke\")\n",
    "\n",
    "# embedding layers for text\n",
    "embed = Embedding(VOCAB_SIZE, 20)(input_text)\n",
    "lstm = LSTM(30)(embed)\n",
    "\n",
    "# dense for freq/stroke\n",
    "input_fs = keras.layers.concatenate([input_freq, input_stroke])\n",
    "dense1 = Dense(3, activation=\"sigmoid\")(input_fs)    \n",
    "\n",
    "# concatenate sequence layers and other two inputs\n",
    "concat = keras.layers.concatenate([lstm, dense1])\n",
    "\n",
    "# connect to outputs\n",
    "dense2 = Dense(20, activation=\"sigmoid\")(concat)\n",
    "grade_out = Dense(6, activation=\"softmax\")(dense2)\n",
    "\n",
    "model = Model(inputs = [input_text, input_freq, input_stroke], \n",
    "            outputs = [grade_out])\n",
    "\n",
    "model.compile(optimizer = 'rmsprop', \n",
    "            loss=\"categorical_crossentropy\", \n",
    "            metrics = [\"accuracy\"])"
   ]
  },
  {
   "cell_type": "code",
   "execution_count": 10,
   "metadata": {},
   "outputs": [
    {
     "data": {
      "image/svg+xml": [
       "<svg height=\"410pt\" viewBox=\"0.00 0.00 504.50 410.00\" width=\"505pt\" xmlns=\"http://www.w3.org/2000/svg\" xmlns:xlink=\"http://www.w3.org/1999/xlink\">\n",
       "<g class=\"graph\" id=\"graph0\" transform=\"scale(1 1) rotate(0) translate(4 406)\">\n",
       "<title>G</title>\n",
       "<polygon fill=\"white\" points=\"-4,4 -4,-406 500.5,-406 500.5,4 -4,4\" stroke=\"none\"/>\n",
       "<!-- 315470960 -->\n",
       "<g class=\"node\" id=\"node1\"><title>315470960</title>\n",
       "<polygon fill=\"none\" points=\"11.5,-365.5 11.5,-401.5 151.5,-401.5 151.5,-365.5 11.5,-365.5\" stroke=\"black\"/>\n",
       "<text font-family=\"Times New Roman,serif\" font-size=\"14.00\" text-anchor=\"middle\" x=\"81.5\" y=\"-379.8\">input_text: InputLayer</text>\n",
       "</g>\n",
       "<!-- 315471632 -->\n",
       "<g class=\"node\" id=\"node4\"><title>315471632</title>\n",
       "<polygon fill=\"none\" points=\"0,-292.5 0,-328.5 163,-328.5 163,-292.5 0,-292.5\" stroke=\"black\"/>\n",
       "<text font-family=\"Times New Roman,serif\" font-size=\"14.00\" text-anchor=\"middle\" x=\"81.5\" y=\"-306.8\">embedding_2: Embedding</text>\n",
       "</g>\n",
       "<!-- 315470960&#45;&gt;315471632 -->\n",
       "<g class=\"edge\" id=\"edge1\"><title>315470960-&gt;315471632</title>\n",
       "<path d=\"M81.5,-365.313C81.5,-357.289 81.5,-347.547 81.5,-338.569\" fill=\"none\" stroke=\"black\"/>\n",
       "<polygon fill=\"black\" points=\"85.0001,-338.529 81.5,-328.529 78.0001,-338.529 85.0001,-338.529\" stroke=\"black\"/>\n",
       "</g>\n",
       "<!-- 315471744 -->\n",
       "<g class=\"node\" id=\"node2\"><title>315471744</title>\n",
       "<polygon fill=\"none\" points=\"182.5,-365.5 182.5,-401.5 324.5,-401.5 324.5,-365.5 182.5,-365.5\" stroke=\"black\"/>\n",
       "<text font-family=\"Times New Roman,serif\" font-size=\"14.00\" text-anchor=\"middle\" x=\"253.5\" y=\"-379.8\">input_freq: InputLayer</text>\n",
       "</g>\n",
       "<!-- 315473032 -->\n",
       "<g class=\"node\" id=\"node5\"><title>315473032</title>\n",
       "<polygon fill=\"none\" points=\"181,-292.5 181,-328.5 354,-328.5 354,-292.5 181,-292.5\" stroke=\"black\"/>\n",
       "<text font-family=\"Times New Roman,serif\" font-size=\"14.00\" text-anchor=\"middle\" x=\"267.5\" y=\"-306.8\">concatenate_3: Concatenate</text>\n",
       "</g>\n",
       "<!-- 315471744&#45;&gt;315473032 -->\n",
       "<g class=\"edge\" id=\"edge2\"><title>315471744-&gt;315473032</title>\n",
       "<path d=\"M256.889,-365.313C258.471,-357.289 260.392,-347.547 262.162,-338.569\" fill=\"none\" stroke=\"black\"/>\n",
       "<polygon fill=\"black\" points=\"265.641,-339.017 264.142,-328.529 258.774,-337.663 265.641,-339.017\" stroke=\"black\"/>\n",
       "</g>\n",
       "<!-- 315471520 -->\n",
       "<g class=\"node\" id=\"node3\"><title>315471520</title>\n",
       "<polygon fill=\"none\" points=\"342.5,-365.5 342.5,-401.5 496.5,-401.5 496.5,-365.5 342.5,-365.5\" stroke=\"black\"/>\n",
       "<text font-family=\"Times New Roman,serif\" font-size=\"14.00\" text-anchor=\"middle\" x=\"419.5\" y=\"-379.8\">input_stroke: InputLayer</text>\n",
       "</g>\n",
       "<!-- 315471520&#45;&gt;315473032 -->\n",
       "<g class=\"edge\" id=\"edge3\"><title>315471520-&gt;315473032</title>\n",
       "<path d=\"M383.092,-365.494C362.189,-355.73 335.742,-343.376 313.422,-332.951\" fill=\"none\" stroke=\"black\"/>\n",
       "<polygon fill=\"black\" points=\"314.679,-329.675 304.138,-328.614 311.717,-336.017 314.679,-329.675\" stroke=\"black\"/>\n",
       "</g>\n",
       "<!-- 315471128 -->\n",
       "<g class=\"node\" id=\"node6\"><title>315471128</title>\n",
       "<polygon fill=\"none\" points=\"65.5,-219.5 65.5,-255.5 163.5,-255.5 163.5,-219.5 65.5,-219.5\" stroke=\"black\"/>\n",
       "<text font-family=\"Times New Roman,serif\" font-size=\"14.00\" text-anchor=\"middle\" x=\"114.5\" y=\"-233.8\">lstm_2: LSTM</text>\n",
       "</g>\n",
       "<!-- 315471632&#45;&gt;315471128 -->\n",
       "<g class=\"edge\" id=\"edge4\"><title>315471632-&gt;315471128</title>\n",
       "<path d=\"M89.4884,-292.313C93.3392,-284.028 98.0417,-273.91 102.326,-264.693\" fill=\"none\" stroke=\"black\"/>\n",
       "<polygon fill=\"black\" points=\"105.544,-266.072 106.585,-255.529 99.1963,-263.122 105.544,-266.072\" stroke=\"black\"/>\n",
       "</g>\n",
       "<!-- 315470008 -->\n",
       "<g class=\"node\" id=\"node7\"><title>315470008</title>\n",
       "<polygon fill=\"none\" points=\"198.5,-219.5 198.5,-255.5 302.5,-255.5 302.5,-219.5 198.5,-219.5\" stroke=\"black\"/>\n",
       "<text font-family=\"Times New Roman,serif\" font-size=\"14.00\" text-anchor=\"middle\" x=\"250.5\" y=\"-233.8\">dense_3: Dense</text>\n",
       "</g>\n",
       "<!-- 315473032&#45;&gt;315470008 -->\n",
       "<g class=\"edge\" id=\"edge5\"><title>315473032-&gt;315470008</title>\n",
       "<path d=\"M263.385,-292.313C261.443,-284.202 259.08,-274.336 256.911,-265.277\" fill=\"none\" stroke=\"black\"/>\n",
       "<polygon fill=\"black\" points=\"260.31,-264.439 254.577,-255.529 253.502,-266.069 260.31,-264.439\" stroke=\"black\"/>\n",
       "</g>\n",
       "<!-- 315472136 -->\n",
       "<g class=\"node\" id=\"node8\"><title>315472136</title>\n",
       "<polygon fill=\"none\" points=\"96,-146.5 96,-182.5 269,-182.5 269,-146.5 96,-146.5\" stroke=\"black\"/>\n",
       "<text font-family=\"Times New Roman,serif\" font-size=\"14.00\" text-anchor=\"middle\" x=\"182.5\" y=\"-160.8\">concatenate_4: Concatenate</text>\n",
       "</g>\n",
       "<!-- 315471128&#45;&gt;315472136 -->\n",
       "<g class=\"edge\" id=\"edge6\"><title>315471128-&gt;315472136</title>\n",
       "<path d=\"M130.961,-219.313C139.397,-210.505 149.817,-199.625 159.075,-189.958\" fill=\"none\" stroke=\"black\"/>\n",
       "<polygon fill=\"black\" points=\"161.802,-192.172 166.191,-182.529 156.746,-187.33 161.802,-192.172\" stroke=\"black\"/>\n",
       "</g>\n",
       "<!-- 315470008&#45;&gt;315472136 -->\n",
       "<g class=\"edge\" id=\"edge7\"><title>315470008-&gt;315472136</title>\n",
       "<path d=\"M234.039,-219.313C225.603,-210.505 215.183,-199.625 205.925,-189.958\" fill=\"none\" stroke=\"black\"/>\n",
       "<polygon fill=\"black\" points=\"208.254,-187.33 198.809,-182.529 203.198,-192.172 208.254,-187.33\" stroke=\"black\"/>\n",
       "</g>\n",
       "<!-- 314365096 -->\n",
       "<g class=\"node\" id=\"node9\"><title>314365096</title>\n",
       "<polygon fill=\"none\" points=\"130.5,-73.5 130.5,-109.5 234.5,-109.5 234.5,-73.5 130.5,-73.5\" stroke=\"black\"/>\n",
       "<text font-family=\"Times New Roman,serif\" font-size=\"14.00\" text-anchor=\"middle\" x=\"182.5\" y=\"-87.8\">dense_4: Dense</text>\n",
       "</g>\n",
       "<!-- 315472136&#45;&gt;314365096 -->\n",
       "<g class=\"edge\" id=\"edge8\"><title>315472136-&gt;314365096</title>\n",
       "<path d=\"M182.5,-146.313C182.5,-138.289 182.5,-128.547 182.5,-119.569\" fill=\"none\" stroke=\"black\"/>\n",
       "<polygon fill=\"black\" points=\"186,-119.529 182.5,-109.529 179,-119.529 186,-119.529\" stroke=\"black\"/>\n",
       "</g>\n",
       "<!-- 314612032 -->\n",
       "<g class=\"node\" id=\"node10\"><title>314612032</title>\n",
       "<polygon fill=\"none\" points=\"130.5,-0.5 130.5,-36.5 234.5,-36.5 234.5,-0.5 130.5,-0.5\" stroke=\"black\"/>\n",
       "<text font-family=\"Times New Roman,serif\" font-size=\"14.00\" text-anchor=\"middle\" x=\"182.5\" y=\"-14.8\">dense_5: Dense</text>\n",
       "</g>\n",
       "<!-- 314365096&#45;&gt;314612032 -->\n",
       "<g class=\"edge\" id=\"edge9\"><title>314365096-&gt;314612032</title>\n",
       "<path d=\"M182.5,-73.3129C182.5,-65.2895 182.5,-55.5475 182.5,-46.5691\" fill=\"none\" stroke=\"black\"/>\n",
       "<polygon fill=\"black\" points=\"186,-46.5288 182.5,-36.5288 179,-46.5289 186,-46.5288\" stroke=\"black\"/>\n",
       "</g>\n",
       "</g>\n",
       "</svg>"
      ],
      "text/plain": [
       "<IPython.core.display.SVG object>"
      ]
     },
     "execution_count": 10,
     "metadata": {},
     "output_type": "execute_result"
    }
   ],
   "source": [
    "from IPython.display import SVG\n",
    "from keras.utils.vis_utils import model_to_dot\n",
    "\n",
    "SVG(model_to_dot(model).create(prog='dot', format='svg'))"
   ]
  },
  {
   "cell_type": "markdown",
   "metadata": {},
   "source": [
    "# Training"
   ]
  },
  {
   "cell_type": "code",
   "execution_count": 8,
   "metadata": {},
   "outputs": [
    {
     "name": "stdout",
     "output_type": "stream",
     "text": [
      "Training data: 784 samples\n",
      " --- Epoch 0 --- \n",
      "[   0] cost: 1.35231, accuracy: 1.00\n",
      "[   1] cost: 1.37075, accuracy: 1.00\n",
      "[   2] cost: 1.58928, accuracy: 0.67\n",
      " --- Epoch 1 --- \n",
      "[   0] cost: 1.48184, accuracy: 0.80\n",
      "[   1] cost: 1.44392, accuracy: 0.83\n",
      "[   2] cost: 1.51751, accuracy: 0.71\n",
      " --- Epoch 2 --- \n",
      "[   0] cost: 1.42903, accuracy: 0.78\n",
      "[   1] cost: 1.37151, accuracy: 0.80\n",
      "[   2] cost: 1.43588, accuracy: 0.70\n",
      " --- Epoch 3 --- \n",
      "[   0] cost: 1.20922, accuracy: 0.80\n",
      "[   1] cost: 1.09501, accuracy: 0.80\n",
      "[   2] cost: 1.19584, accuracy: 0.70\n",
      " --- Epoch 4 --- \n",
      "[   0] cost: 0.949924, accuracy: 0.80\n",
      "[   1] cost: 0.852173, accuracy: 0.80\n",
      "[   2] cost: 0.937655, accuracy: 0.70\n",
      " --- Epoch 5 --- \n",
      "[   0] cost: 0.690789, accuracy: 0.80\n",
      "[   1] cost: 0.626508, accuracy: 0.80\n",
      "[   2] cost: 0.772273, accuracy: 0.70\n",
      " --- Epoch 6 --- \n",
      "[   0] cost: 0.544295, accuracy: 0.80\n",
      "[   1] cost: 0.506109, accuracy: 0.80\n",
      "[   2] cost: 0.65539, accuracy: 0.70\n",
      " --- Epoch 7 --- \n",
      "[   0] cost: 0.458682, accuracy: 0.80\n",
      "[   1] cost: 0.443126, accuracy: 0.80\n",
      "[   2] cost: 0.598679, accuracy: 0.70\n",
      " --- Epoch 8 --- \n",
      "[   0] cost: 0.412607, accuracy: 0.80\n",
      "[   1] cost: 0.404979, accuracy: 0.80\n",
      "[   2] cost: 0.559984, accuracy: 0.70\n",
      " --- Epoch 9 --- \n",
      "[   0] cost: 0.381023, accuracy: 0.80\n",
      "[   1] cost: 0.376728, accuracy: 0.80\n",
      "[   2] cost: 0.528007, accuracy: 0.70\n"
     ]
    }
   ],
   "source": [
    "EPOCH = 10\n",
    "cost_vec = []\n",
    "acc_vec = []\n",
    "print(\"Training data: %d samples\" % len(train_idx))\n",
    "\n",
    "for epoch_i in range(EPOCH):\n",
    "    print(\" --- Epoch {} --- \".format(epoch_i))\n",
    "    counter = 0\n",
    "\n",
    "    for sample_idx in train_idx:\n",
    "        sample = text_mat[sample_idx]\n",
    "        label = labels[sample_idx]\n",
    "        freq = freq_vec[sample_idx]\n",
    "        stroke = stroke_vec[sample_idx]\n",
    "        freq = freq / np.sum(freq)\n",
    "        stroke = stroke/np.sum(stroke)\n",
    "        ret = model.train_on_batch(\n",
    "                [np.array([sample]), np.array([freq]), np.array([stroke])], \n",
    "                keras.utils.to_categorical(label, 6))\n",
    "        cost_vec.append(ret[0])\n",
    "        acc_vec.append(ret[1])\n",
    "\n",
    "        global_iter = epoch_i * len(train_idx) + counter        \n",
    "\n",
    "        mv_cost = np.mean(cost_vec[-100:])\n",
    "        mv_acc = np.mean(acc_vec[-100:])\n",
    "        if (global_iter + 1) % 100 == 0:\n",
    "            train_utils.write_log(tb_callback, global_iter, \n",
    "                    [\"loss\", \"accuracy\"], [mv_cost, mv_acc])\n",
    "\n",
    "        if (global_iter + 1) % 500 == 0:                        \n",
    "            print(\"validating model...\")\n",
    "            val_loss, val_acc = train_utils.test_model(\n",
    "                model, test_idx, data, labels, VOCAB_SIZE)\n",
    "            print(\"Validation: loss: {:f}, acc: {:.2f}\".format(val_loss, val_acc))\n",
    "            train_utils.write_log(tb_callback, global_iter, \n",
    "                    [\"val_loss\", \"val_accuracy\"], [val_loss, val_acc])    \n",
    "\n",
    "        # if counter >= 3:\n",
    "        #     break   \n",
    "        print(\"[% 4d] cost: %s, accuracy: %.2f\" % (counter, mv_cost, mv_acc))\n",
    "        counter += 1"
   ]
  },
  {
   "cell_type": "code",
   "execution_count": 14,
   "metadata": {},
   "outputs": [
    {
     "data": {
      "text/plain": [
       "(4,)"
      ]
     },
     "execution_count": 14,
     "metadata": {},
     "output_type": "execute_result"
    }
   ],
   "source": [
    "np.array(freq_vec[sample_idx]).shape\n"
   ]
  },
  {
   "cell_type": "code",
   "execution_count": 31,
   "metadata": {},
   "outputs": [
    {
     "data": {
      "text/plain": [
       "[60, 1, 1, 0]"
      ]
     },
     "execution_count": 31,
     "metadata": {},
     "output_type": "execute_result"
    }
   ],
   "source": [
    "freq_vec[0].tolist()"
   ]
  },
  {
   "cell_type": "code",
   "execution_count": null,
   "metadata": {
    "collapsed": true
   },
   "outputs": [],
   "source": []
  }
 ],
 "metadata": {
  "kernelspec": {
   "display_name": "Python 3",
   "language": "python",
   "name": "python3"
  },
  "language_info": {
   "codemirror_mode": {
    "name": "ipython",
    "version": 3
   },
   "file_extension": ".py",
   "mimetype": "text/x-python",
   "name": "python",
   "nbconvert_exporter": "python",
   "pygments_lexer": "ipython3",
   "version": "3.6.1"
  }
 },
 "nbformat": 4,
 "nbformat_minor": 2
}
